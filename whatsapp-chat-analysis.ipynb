{
 "cells": [
  {
   "cell_type": "code",
   "execution_count": null,
   "id": "dda6d985-2186-403c-9e9b-a860c2407ac7",
   "metadata": {},
   "outputs": [],
   "source": [
    "import re\n",
    "import pandas as pd\n",
    "f = open('Whatsapp Chat with Sample1.txt', 'r', encoding = 'utf-8')\n",
    "data = f.read()\n",
    "pattern = r'\\d{1,2}/\\d{1,2}/\\d{2,4},\\s\\d{1,2}:\\d{2}\\s-\\s'\n",
    "messages = re.split(pattern, data)[1:]"
   ]
  },
  {
   "cell_type": "code",
   "execution_count": null,
   "id": "a2c2ed2a-f29d-40fb-9df9-748d9c9c6aee",
   "metadata": {},
   "outputs": [],
   "source": [
    "messages"
   ]
  },
  {
   "cell_type": "code",
   "execution_count": null,
   "id": "053a7e5f-d4ad-4a3c-b87f-c742e478aea7",
   "metadata": {},
   "outputs": [],
   "source": [
    "dates = re.findall(pattern,data)"
   ]
  },
  {
   "cell_type": "code",
   "execution_count": null,
   "id": "8e1dbe1b-cced-4f8c-952b-aa5bef80f1af",
   "metadata": {},
   "outputs": [],
   "source": [
    "dates"
   ]
  },
  {
   "cell_type": "code",
   "execution_count": null,
   "id": "5c6a60fb-f0d5-408e-b118-bf583373934a",
   "metadata": {},
   "outputs": [],
   "source": [
    "df = pd.DataFrame({'user_message':messages, 'message_date':dates})\n",
    "df['message_date'] = pd.to_datetime(df['message_date'],format= '%d/%m/%y, %H:%M - ')\n",
    "\n",
    "df.rename(columns={'message_date':'date'},inplace=True)\n",
    "\n",
    "df.head()"
   ]
  },
  {
   "cell_type": "code",
   "execution_count": null,
   "id": "a8613b23-d3c9-4720-ac08-460c48fdd5f2",
   "metadata": {},
   "outputs": [],
   "source": [
    "df.shape"
   ]
  },
  {
   "cell_type": "code",
   "execution_count": null,
   "id": "49a9c3c8-7308-4d0a-9f70-faeaf9411b4c",
   "metadata": {},
   "outputs": [],
   "source": [
    "users =[]\n",
    "messages =[]\n",
    "for message in df['user_message']:\n",
    "    entry = re.split(r'([\\w\\W]+?):\\s', message)\n",
    "    if entry[1:]:\n",
    "        users.append(entry[1])\n",
    "        messages.append(entry[2])\n",
    "    else:\n",
    "        users.append('group_notification')\n",
    "        messages.append(entry[0])\n",
    "\n",
    "df['user'] = users\n",
    "df['message']= messages\n",
    "df.drop(columns=['user_message'],inplace =True)\n",
    "\n",
    "df.head()"
   ]
  },
  {
   "cell_type": "code",
   "execution_count": null,
   "id": "4abebd58-6215-4155-802f-4e5926bb738a",
   "metadata": {},
   "outputs": [],
   "source": [
    "df['year'] = df['date'].dt.year"
   ]
  },
  {
   "cell_type": "code",
   "execution_count": null,
   "id": "7eb87e5a-737c-4a6e-9431-8bde3b817dfd",
   "metadata": {},
   "outputs": [],
   "source": [
    "df.head()"
   ]
  },
  {
   "cell_type": "code",
   "execution_count": null,
   "id": "d31db732-f684-443b-a76d-0c806a3d4e84",
   "metadata": {},
   "outputs": [],
   "source": [
    "df['month'] = df['date'].dt.month_name()"
   ]
  },
  {
   "cell_type": "code",
   "execution_count": null,
   "id": "2f47190b-52fb-4408-8e7d-967f245529de",
   "metadata": {},
   "outputs": [],
   "source": [
    "df['day'] = df['date'].dt.day"
   ]
  },
  {
   "cell_type": "code",
   "execution_count": null,
   "id": "b6ecef53-61c0-4b29-934e-655ff302b137",
   "metadata": {},
   "outputs": [],
   "source": [
    "df['hour'] = df['date'].dt.hour"
   ]
  },
  {
   "cell_type": "code",
   "execution_count": null,
   "id": "380c3bac-d3a8-4cab-a127-e451366d3836",
   "metadata": {},
   "outputs": [],
   "source": [
    "df['minute'] = df['date'].dt.minute"
   ]
  },
  {
   "cell_type": "code",
   "execution_count": null,
   "id": "e987b5c1-8b93-4e4c-835e-dff8c6cbb8e1",
   "metadata": {},
   "outputs": [],
   "source": [
    "df.head()"
   ]
  },
  {
   "cell_type": "code",
   "execution_count": null,
   "id": "64f000a3-2c3a-4012-af2a-9df15275bbed",
   "metadata": {},
   "outputs": [],
   "source": []
  }
 ],
 "metadata": {
  "kernelspec": {
   "display_name": "Python 3 (ipykernel)",
   "language": "python",
   "name": "python3"
  },
  "language_info": {
   "codemirror_mode": {
    "name": "ipython",
    "version": 3
   },
   "file_extension": ".py",
   "mimetype": "text/x-python",
   "name": "python",
   "nbconvert_exporter": "python",
   "pygments_lexer": "ipython3",
   "version": "3.13.1"
  }
 },
 "nbformat": 4,
 "nbformat_minor": 5
}
